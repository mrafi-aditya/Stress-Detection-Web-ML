{
 "cells": [
  {
   "cell_type": "code",
   "execution_count": 1,
   "id": "8c54b02c",
   "metadata": {
    "execution": {
     "iopub.execute_input": "2025-05-18T01:17:23.657910Z",
     "iopub.status.busy": "2025-05-18T01:17:23.657123Z",
     "iopub.status.idle": "2025-05-18T01:17:26.105791Z",
     "shell.execute_reply": "2025-05-18T01:17:26.104746Z"
    }
   },
   "outputs": [
    {
     "name": "stdout",
     "output_type": "stream",
     "text": [
      "Requirement already satisfied: pandas in c:\\users\\mybook z series\\appdata\\local\\programs\\python\\python313\\lib\\site-packages (2.2.3)\n",
      "Requirement already satisfied: numpy>=1.26.0 in c:\\users\\mybook z series\\appdata\\local\\programs\\python\\python313\\lib\\site-packages (from pandas) (2.2.5)\n",
      "Requirement already satisfied: python-dateutil>=2.8.2 in c:\\users\\mybook z series\\appdata\\local\\programs\\python\\python313\\lib\\site-packages (from pandas) (2.9.0.post0)\n",
      "Requirement already satisfied: pytz>=2020.1 in c:\\users\\mybook z series\\appdata\\local\\programs\\python\\python313\\lib\\site-packages (from pandas) (2025.2)\n",
      "Requirement already satisfied: tzdata>=2022.7 in c:\\users\\mybook z series\\appdata\\local\\programs\\python\\python313\\lib\\site-packages (from pandas) (2025.2)\n",
      "Requirement already satisfied: six>=1.5 in c:\\users\\mybook z series\\appdata\\local\\programs\\python\\python313\\lib\\site-packages (from python-dateutil>=2.8.2->pandas) (1.17.0)\n"
     ]
    },
    {
     "name": "stderr",
     "output_type": "stream",
     "text": [
      "\n",
      "[notice] A new release of pip is available: 25.0.1 -> 25.1.1\n",
      "[notice] To update, run: python.exe -m pip install --upgrade pip\n"
     ]
    },
    {
     "name": "stderr",
     "output_type": "stream",
     "text": [
      "Sudo is disabled on this machine. To enable it, go to the \u001b]8;;ms-settings:developers\u001b\\Developer Settings page\u001b]8;;\u001b\\ in the Settings app\n"
     ]
    },
    {
     "name": "stderr",
     "output_type": "stream",
     "text": [
      "Sudo is disabled on this machine. To enable it, go to the \u001b]8;;ms-settings:developers\u001b\\Developer Settings page\u001b]8;;\u001b\\ in the Settings app\n"
     ]
    },
    {
     "name": "stderr",
     "output_type": "stream",
     "text": [
      "Sudo is disabled on this machine. To enable it, go to the \u001b]8;;ms-settings:developers\u001b\\Developer Settings page\u001b]8;;\u001b\\ in the Settings app\n"
     ]
    },
    {
     "name": "stderr",
     "output_type": "stream",
     "text": [
      "Sudo is disabled on this machine. To enable it, go to the \u001b]8;;ms-settings:developers\u001b\\Developer Settings page\u001b]8;;\u001b\\ in the Settings app\n"
     ]
    },
    {
     "name": "stderr",
     "output_type": "stream",
     "text": [
      "'NODE_MAJOR' is not recognized as an internal or external command,\n",
      "operable program or batch file.\n"
     ]
    },
    {
     "name": "stderr",
     "output_type": "stream",
     "text": [
      "Sudo is disabled on this machine. To enable it, go to the \u001b]8;;ms-settings:developers\u001b\\Developer Settings page\u001b]8;;\u001b\\ in the Settings app\n"
     ]
    },
    {
     "name": "stderr",
     "output_type": "stream",
     "text": [
      "Sudo is disabled on this machine. To enable it, go to the \u001b]8;;ms-settings:developers\u001b\\Developer Settings page\u001b]8;;\u001b\\ in the Settings app\n"
     ]
    },
    {
     "name": "stdout",
     "output_type": "stream",
     "text": [
      "v22.14.0\n"
     ]
    }
   ],
   "source": [
    "# Cell 1: Instal dependensi\n",
    "!pip install pandas\n",
    "!sudo apt-get update\n",
    "!sudo apt-get install -y ca-certificates curl gnupg\n",
    "!sudo mkdir -p /etc/apt/keyrings\n",
    "!curl -fsSL https://deb.nodesource.com/gpgkey/nodesource-repo.gpg.key | sudo gpg --dearmor -o /etc/apt/keyrings/nodesource.gpg\n",
    "!NODE_MAJOR=20 && echo \"deb [signed-by=/etc/apt/keyrings/nodesource.gpg] https://deb.nodesource.com/node_$NODE_MAJOR.x nodistro main\" | sudo tee /etc/apt/sources.list.d/nodesource.list\n",
    "!sudo apt-get update\n",
    "!sudo apt-get install nodejs -y\n",
    "!node -v"
   ]
  },
  {
   "cell_type": "code",
   "execution_count": 2,
   "id": "f2b1bbe1",
   "metadata": {
    "execution": {
     "iopub.execute_input": "2025-05-18T01:17:26.109660Z",
     "iopub.status.busy": "2025-05-18T01:17:26.109289Z",
     "iopub.status.idle": "2025-05-18T01:17:26.113687Z",
     "shell.execute_reply": "2025-05-18T01:17:26.112748Z"
    }
   },
   "outputs": [],
   "source": [
    "# Cell 2: Set token\n",
    "twitter_auth_token = 'd02c899d82bd48baa99ad566d782a355e7de9ed9'"
   ]
  },
  {
   "cell_type": "code",
   "execution_count": 3,
   "id": "011ee70e",
   "metadata": {
    "execution": {
     "iopub.execute_input": "2025-05-18T01:17:26.116573Z",
     "iopub.status.busy": "2025-05-18T01:17:26.116365Z",
     "iopub.status.idle": "2025-05-18T01:17:26.120066Z",
     "shell.execute_reply": "2025-05-18T01:17:26.119438Z"
    }
   },
   "outputs": [],
   "source": [
    "# Cell 3: Crawl data\n",
    "import datetime\n",
    "\n",
    "# Generate dynamic dates\n",
    "current_date = datetime.datetime.now().strftime('%Y-%m-%d')  # Current date: YYYY-MM-DD\n",
    "one_year_ago = (datetime.datetime.now() - datetime.timedelta(days=365)).strftime('%Y-%m-%d')  # One year ago: YYYY-MM-DD"
   ]
  },
  {
   "cell_type": "code",
   "execution_count": 4,
   "id": "80625cf8",
   "metadata": {
    "execution": {
     "iopub.execute_input": "2025-05-18T01:17:26.122522Z",
     "iopub.status.busy": "2025-05-18T01:17:26.122330Z",
     "iopub.status.idle": "2025-05-18T01:17:26.127319Z",
     "shell.execute_reply": "2025-05-18T01:17:26.126540Z"
    }
   },
   "outputs": [],
   "source": [
    "# BACA USERNAME DARI FILE\n",
    "with open('username.txt', 'r') as f:\n",
    "    username = f.read().strip()"
   ]
  },
  {
   "cell_type": "code",
   "execution_count": 5,
   "id": "3f71c3a7",
   "metadata": {
    "execution": {
     "iopub.execute_input": "2025-05-18T01:17:26.130520Z",
     "iopub.status.busy": "2025-05-18T01:17:26.129991Z",
     "iopub.status.idle": "2025-05-18T01:20:18.841385Z",
     "shell.execute_reply": "2025-05-18T01:20:18.839756Z"
    }
   },
   "outputs": [
    {
     "name": "stdout",
     "output_type": "stream",
     "text": [
      "\u001b[1m\u001b[32mTweet Harvest [v2.6.1]\u001b[39m\u001b[22m\n",
      "\u001b[1m\u001b[32m\u001b[39m\u001b[22m\n",
      "\u001b[34mResearch by \u001b[39m\u001b[1m\u001b[34mHelmi Satria\u001b[39m\u001b[22m\u001b[34m\u001b[39m\n",
      "\u001b[34mUse it for Educational Purposes only!\u001b[39m\n",
      "\u001b[34m\u001b[39m\n",
      "\u001b[33mThis script uses Chromium Browser to crawl data from Twitter with \u001b[1myour Twitter auth token\u001b[22m.\u001b[39m\n",
      "\u001b[33mPlease enter your Twitter auth token when prompted.\u001b[39m\n",
      "\u001b[33m\u001b[39m\n",
      "\u001b[31m\u001b[1mNote:\u001b[22m\u001b[39m Keep your access token secret! Don't share it with anyone else.\n",
      "\u001b[31m\u001b[1mNote:\u001b[22m\u001b[39m This script only runs on your local device.\n",
      "\n",
      "\u001b[34m\u001b[39m\n",
      "\u001b[34mOpening twitter search page...\u001b[39m\n",
      "\u001b[34m\u001b[39m\n",
      "\u001b[34m\u001b[39m\n",
      "\u001b[34mFound existing file ./tweets-data/save_tweets.csv, renaming to ./tweets-data/save_tweets.old.csv\u001b[39m\n",
      "\u001b[90m\u001b[39m\n",
      "\u001b[90m-- Scrolling... (1)\u001b[39m\u001b[33m\u001b[39m\n",
      "\u001b[33mFilling in keywords: from:praivettwt since:2024-05-18 until:2025-05-18\u001b[39m\n",
      "\u001b[33m\u001b[39m\n",
      "\u001b[90m (2)\u001b[39m\u001b[90m (3)\u001b[39m\u001b[34m\u001b[39m\n",
      "\u001b[34m\u001b[39m\n",
      "\u001b[34mYour tweets saved to: C:\\StressAPP\\tweets-data\\save_tweets.csv\u001b[39m\n",
      "\u001b[33mTotal tweets saved: 20\u001b[39m\n",
      "\u001b[90m\u001b[39m\n",
      "\u001b[90m-- Scrolling... (1)\u001b[39m\u001b[90m (2)\u001b[39m\u001b[34m\u001b[39m\n",
      "\u001b[34m\u001b[39m\n",
      "\u001b[34mYour tweets saved to: C:\\StressAPP\\tweets-data\\save_tweets.csv\u001b[39m\n",
      "\u001b[33mTotal tweets saved: 40\u001b[39m\n",
      "\u001b[90m\u001b[39m\n",
      "\u001b[90m-- Scrolling... (1)\u001b[39m\u001b[90m (2)\u001b[39m\u001b[34m\u001b[39m\n",
      "\u001b[34m\u001b[39m\n",
      "\u001b[34mYour tweets saved to: C:\\StressAPP\\tweets-data\\save_tweets.csv\u001b[39m\n",
      "\u001b[33mTotal tweets saved: 60\u001b[39m\n",
      "\u001b[90m\u001b[39m\n",
      "\u001b[90m-- Scrolling... (1)\u001b[39m\u001b[90m (2)\u001b[39m\u001b[90m (3)\u001b[39m\u001b[90m\u001b[39m\n",
      "\u001b[90m-- Scrolling... (1)\u001b[39m\u001b[90m (2)\u001b[39m\u001b[90m (3)\u001b[39m\u001b[90m (4)\u001b[39m\u001b[90m (5)\u001b[39m\u001b[90m (6)\u001b[39m\u001b[90m (7)\u001b[39m\u001b[90m (8)\u001b[39m\u001b[90m (9)\u001b[39m\u001b[90m (10)\u001b[39m\u001b[90m (11)\u001b[39m\u001b[90m (12)\u001b[39m\u001b[90m (13)\u001b[39m\u001b[90m (14)\u001b[39m\u001b[90m (15)\u001b[39m\u001b[90m (16)\u001b[39m\u001b[90m (17)\u001b[39m\u001b[90m (18)\u001b[39m\u001b[90m (19)\u001b[39m\u001b[90m (20)\u001b[39m\u001b[90m (21)\u001b[39m\u001b[33mNo more tweets found, please check your search criteria and csv file result\u001b[39m\n",
      "\u001b[33mTimeout reached 1 times, making sure again...\u001b[39m\n",
      "\u001b[90m\u001b[39m\n",
      "\u001b[90m-- Scrolling... (1)\u001b[39m\u001b[90m (2)\u001b[39m\u001b[90m (3)\u001b[39m\u001b[90m (4)\u001b[39m\u001b[90m (5)\u001b[39m\u001b[90m (6)\u001b[39m\u001b[90m (7)\u001b[39m\u001b[90m (8)\u001b[39m\u001b[90m (9)\u001b[39m\u001b[90m (10)\u001b[39m\u001b[90m (11)\u001b[39m\u001b[90m (12)\u001b[39m\u001b[90m (13)\u001b[39m\u001b[90m (14)\u001b[39m\u001b[90m (15)\u001b[39m\u001b[90m (16)\u001b[39m\u001b[90m (17)\u001b[39m\u001b[90m (18)\u001b[39m\u001b[90m (19)\u001b[39m\u001b[90m (20)\u001b[39m\u001b[90m (21)\u001b[39m\u001b[33mNo more tweets found, please check your search criteria and csv file result\u001b[39m\n",
      "\u001b[33mTimeout reached 2 times, making sure again...\u001b[39m\n",
      "\u001b[90m\u001b[39m\n",
      "\u001b[90m-- Scrolling... (1)\u001b[39m\u001b[90m (2)\u001b[39m\u001b[90m (3)\u001b[39m\u001b[90m (4)\u001b[39m\u001b[90m (5)\u001b[39m\u001b[90m (6)\u001b[39m\u001b[90m (7)\u001b[39m\u001b[90m (8)\u001b[39m\u001b[90m (9)\u001b[39m\u001b[90m (10)\u001b[39m\u001b[90m (11)\u001b[39m\u001b[90m (12)\u001b[39m\u001b[90m (13)\u001b[39m\u001b[90m (14)\u001b[39m\u001b[90m (15)\u001b[39m\u001b[90m (16)\u001b[39m\u001b[90m (17)\u001b[39m\u001b[90m (18)\u001b[39m\u001b[90m (19)\u001b[39m\u001b[90m (20)\u001b[39m\u001b[90m (21)\u001b[39m\u001b[33mNo more tweets found, please check your search criteria and csv file result\u001b[39m\n",
      "\u001b[33mTimeout reached 3 times, making sure again...\u001b[39m\n",
      "\u001b[90m\u001b[39m\n",
      "\u001b[90m-- Scrolling... (1)\u001b[39m\u001b[90m (2)\u001b[39m\u001b[90m (3)\u001b[39m\u001b[90m (4)\u001b[39m\u001b[90m (5)\u001b[39m\u001b[90m (6)\u001b[39m\u001b[90m (7)\u001b[39m\u001b[90m (8)\u001b[39m\u001b[90m (9)\u001b[39m\u001b[90m (10)\u001b[39m\u001b[90m (11)\u001b[39m\u001b[90m (12)\u001b[39m\u001b[90m (13)\u001b[39m\u001b[90m (14)\u001b[39m\u001b[90m (15)\u001b[39m\u001b[90m (16)\u001b[39m\u001b[90m (17)\u001b[39m\u001b[90m (18)\u001b[39m\u001b[90m (19)\u001b[39m\u001b[90m (20)\u001b[39mGot 60 tweets, done scrolling...\n"
     ]
    },
    {
     "name": "stderr",
     "output_type": "stream",
     "text": [
      "\u001b[90m[v2.6.1]\u001b[39m No more tweets found, please check your search criteria and csv file result\n"
     ]
    }
   ],
   "source": [
    "# Cell 3: Crawl data\n",
    "filename = 'save_tweets.csv'\n",
    "search_keyword = f'from:{username} since:{one_year_ago} until:{current_date}'\n",
    "limit = 200\n",
    "\n",
    "!npx -y tweet-harvest@2.6.1 -o \"{filename}\" -s \"{search_keyword}\" --tab \"LATEST\" -l {limit} --token {twitter_auth_token}"
   ]
  },
  {
   "cell_type": "code",
   "execution_count": 6,
   "id": "81bfce2a",
   "metadata": {
    "execution": {
     "iopub.execute_input": "2025-05-18T01:20:18.846692Z",
     "iopub.status.busy": "2025-05-18T01:20:18.846138Z",
     "iopub.status.idle": "2025-05-18T01:20:20.223898Z",
     "shell.execute_reply": "2025-05-18T01:20:20.222308Z"
    }
   },
   "outputs": [
    {
     "data": {
      "text/html": [
       "<div>\n",
       "<style scoped>\n",
       "    .dataframe tbody tr th:only-of-type {\n",
       "        vertical-align: middle;\n",
       "    }\n",
       "\n",
       "    .dataframe tbody tr th {\n",
       "        vertical-align: top;\n",
       "    }\n",
       "\n",
       "    .dataframe thead th {\n",
       "        text-align: right;\n",
       "    }\n",
       "</style>\n",
       "<table border=\"1\" class=\"dataframe\">\n",
       "  <thead>\n",
       "    <tr style=\"text-align: right;\">\n",
       "      <th></th>\n",
       "      <th>conversation_id_str</th>\n",
       "      <th>created_at</th>\n",
       "      <th>favorite_count</th>\n",
       "      <th>full_text</th>\n",
       "      <th>id_str</th>\n",
       "      <th>image_url</th>\n",
       "      <th>in_reply_to_screen_name</th>\n",
       "      <th>lang</th>\n",
       "      <th>location</th>\n",
       "      <th>quote_count</th>\n",
       "      <th>reply_count</th>\n",
       "      <th>retweet_count</th>\n",
       "      <th>tweet_url</th>\n",
       "      <th>user_id_str</th>\n",
       "      <th>username</th>\n",
       "    </tr>\n",
       "  </thead>\n",
       "  <tbody>\n",
       "    <tr>\n",
       "      <th>0</th>\n",
       "      <td>1922246836888240371</td>\n",
       "      <td>Tue May 13 11:05:34 +0000 2025</td>\n",
       "      <td>0</td>\n",
       "      <td>Mau bulking tapi malah takut jd fatty</td>\n",
       "      <td>1922246836888240371</td>\n",
       "      <td>NaN</td>\n",
       "      <td>NaN</td>\n",
       "      <td>in</td>\n",
       "      <td>NaN</td>\n",
       "      <td>0</td>\n",
       "      <td>0</td>\n",
       "      <td>0</td>\n",
       "      <td>https://x.com/praivettwt/status/19222468368882...</td>\n",
       "      <td>1915962316820275200</td>\n",
       "      <td>praivettwt</td>\n",
       "    </tr>\n",
       "    <tr>\n",
       "      <th>1</th>\n",
       "      <td>1922246761596293270</td>\n",
       "      <td>Tue May 13 11:05:16 +0000 2025</td>\n",
       "      <td>0</td>\n",
       "      <td>Ini mah mentah anjir</td>\n",
       "      <td>1922246761596293270</td>\n",
       "      <td>NaN</td>\n",
       "      <td>NaN</td>\n",
       "      <td>in</td>\n",
       "      <td>NaN</td>\n",
       "      <td>0</td>\n",
       "      <td>0</td>\n",
       "      <td>0</td>\n",
       "      <td>https://x.com/praivettwt/status/19222467615962...</td>\n",
       "      <td>1915962316820275200</td>\n",
       "      <td>praivettwt</td>\n",
       "    </tr>\n",
       "    <tr>\n",
       "      <th>2</th>\n",
       "      <td>1922246549695812054</td>\n",
       "      <td>Tue May 13 11:04:25 +0000 2025</td>\n",
       "      <td>0</td>\n",
       "      <td>PUSING BANGET PLS</td>\n",
       "      <td>1922246549695812054</td>\n",
       "      <td>NaN</td>\n",
       "      <td>NaN</td>\n",
       "      <td>en</td>\n",
       "      <td>NaN</td>\n",
       "      <td>0</td>\n",
       "      <td>0</td>\n",
       "      <td>0</td>\n",
       "      <td>https://x.com/praivettwt/status/19222465496958...</td>\n",
       "      <td>1915962316820275200</td>\n",
       "      <td>praivettwt</td>\n",
       "    </tr>\n",
       "    <tr>\n",
       "      <th>3</th>\n",
       "      <td>1922246403578855750</td>\n",
       "      <td>Tue May 13 11:03:50 +0000 2025</td>\n",
       "      <td>0</td>\n",
       "      <td>Ratu</td>\n",
       "      <td>1922246403578855750</td>\n",
       "      <td>NaN</td>\n",
       "      <td>NaN</td>\n",
       "      <td>in</td>\n",
       "      <td>NaN</td>\n",
       "      <td>0</td>\n",
       "      <td>0</td>\n",
       "      <td>0</td>\n",
       "      <td>https://x.com/praivettwt/status/19222464035788...</td>\n",
       "      <td>1915962316820275200</td>\n",
       "      <td>praivettwt</td>\n",
       "    </tr>\n",
       "    <tr>\n",
       "      <th>4</th>\n",
       "      <td>1922246342136484015</td>\n",
       "      <td>Tue May 13 11:03:36 +0000 2025</td>\n",
       "      <td>0</td>\n",
       "      <td>Kenapa jeketi empat puluh delapan eksis</td>\n",
       "      <td>1922246342136484015</td>\n",
       "      <td>NaN</td>\n",
       "      <td>NaN</td>\n",
       "      <td>in</td>\n",
       "      <td>NaN</td>\n",
       "      <td>0</td>\n",
       "      <td>0</td>\n",
       "      <td>0</td>\n",
       "      <td>https://x.com/praivettwt/status/19222463421364...</td>\n",
       "      <td>1915962316820275200</td>\n",
       "      <td>praivettwt</td>\n",
       "    </tr>\n",
       "  </tbody>\n",
       "</table>\n",
       "</div>"
      ],
      "text/plain": [
       "   conversation_id_str                      created_at  favorite_count  \\\n",
       "0  1922246836888240371  Tue May 13 11:05:34 +0000 2025               0   \n",
       "1  1922246761596293270  Tue May 13 11:05:16 +0000 2025               0   \n",
       "2  1922246549695812054  Tue May 13 11:04:25 +0000 2025               0   \n",
       "3  1922246403578855750  Tue May 13 11:03:50 +0000 2025               0   \n",
       "4  1922246342136484015  Tue May 13 11:03:36 +0000 2025               0   \n",
       "\n",
       "                                 full_text               id_str  image_url  \\\n",
       "0   Mau bulking tapi malah takut jd fatty   1922246836888240371        NaN   \n",
       "1                     Ini mah mentah anjir  1922246761596293270        NaN   \n",
       "2                        PUSING BANGET PLS  1922246549695812054        NaN   \n",
       "3                                     Ratu  1922246403578855750        NaN   \n",
       "4  Kenapa jeketi empat puluh delapan eksis  1922246342136484015        NaN   \n",
       "\n",
       "   in_reply_to_screen_name lang  location  quote_count  reply_count  \\\n",
       "0                      NaN   in       NaN            0            0   \n",
       "1                      NaN   in       NaN            0            0   \n",
       "2                      NaN   en       NaN            0            0   \n",
       "3                      NaN   in       NaN            0            0   \n",
       "4                      NaN   in       NaN            0            0   \n",
       "\n",
       "   retweet_count                                          tweet_url  \\\n",
       "0              0  https://x.com/praivettwt/status/19222468368882...   \n",
       "1              0  https://x.com/praivettwt/status/19222467615962...   \n",
       "2              0  https://x.com/praivettwt/status/19222465496958...   \n",
       "3              0  https://x.com/praivettwt/status/19222464035788...   \n",
       "4              0  https://x.com/praivettwt/status/19222463421364...   \n",
       "\n",
       "           user_id_str    username  \n",
       "0  1915962316820275200  praivettwt  \n",
       "1  1915962316820275200  praivettwt  \n",
       "2  1915962316820275200  praivettwt  \n",
       "3  1915962316820275200  praivettwt  \n",
       "4  1915962316820275200  praivettwt  "
      ]
     },
     "metadata": {},
     "output_type": "display_data"
    },
    {
     "name": "stdout",
     "output_type": "stream",
     "text": [
      "Jumlah tweet dalam dataframe adalah 60.\n"
     ]
    }
   ],
   "source": [
    "# Cell 4: Baca dan filter data\n",
    "import pandas as pd\n",
    "\n",
    "file_path = f\"tweets-data/{filename}\"\n",
    "df = pd.read_csv(file_path, delimiter=\",\")\n",
    "display(df.head())\n",
    "\n",
    "num_tweets = len(df)\n",
    "print(f\"Jumlah tweet dalam dataframe adalah {num_tweets}.\")"
   ]
  },
  {
   "cell_type": "code",
   "execution_count": 7,
   "id": "999afbaf",
   "metadata": {
    "execution": {
     "iopub.execute_input": "2025-05-18T01:20:20.230648Z",
     "iopub.status.busy": "2025-05-18T01:20:20.229912Z",
     "iopub.status.idle": "2025-05-18T01:20:20.285676Z",
     "shell.execute_reply": "2025-05-18T01:20:20.283176Z"
    }
   },
   "outputs": [
    {
     "data": {
      "text/html": [
       "<div>\n",
       "<style scoped>\n",
       "    .dataframe tbody tr th:only-of-type {\n",
       "        vertical-align: middle;\n",
       "    }\n",
       "\n",
       "    .dataframe tbody tr th {\n",
       "        vertical-align: top;\n",
       "    }\n",
       "\n",
       "    .dataframe thead th {\n",
       "        text-align: right;\n",
       "    }\n",
       "</style>\n",
       "<table border=\"1\" class=\"dataframe\">\n",
       "  <thead>\n",
       "    <tr style=\"text-align: right;\">\n",
       "      <th></th>\n",
       "      <th>username</th>\n",
       "      <th>full_text</th>\n",
       "      <th>created_at</th>\n",
       "    </tr>\n",
       "  </thead>\n",
       "  <tbody>\n",
       "    <tr>\n",
       "      <th>0</th>\n",
       "      <td>praivettwt</td>\n",
       "      <td>Mau bulking tapi malah takut jd fatty</td>\n",
       "      <td>Tue May 13 11:05:34 +0000 2025</td>\n",
       "    </tr>\n",
       "    <tr>\n",
       "      <th>2</th>\n",
       "      <td>praivettwt</td>\n",
       "      <td>PUSING BANGET PLS</td>\n",
       "      <td>Tue May 13 11:04:25 +0000 2025</td>\n",
       "    </tr>\n",
       "    <tr>\n",
       "      <th>6</th>\n",
       "      <td>praivettwt</td>\n",
       "      <td>Anak gajah meninggal sedih banget mau nangis</td>\n",
       "      <td>Mon May 12 15:12:36 +0000 2025</td>\n",
       "    </tr>\n",
       "    <tr>\n",
       "      <th>18</th>\n",
       "      <td>praivettwt</td>\n",
       "      <td>Stress banget banyak tugas pls</td>\n",
       "      <td>Sun May 11 00:39:01 +0000 2025</td>\n",
       "    </tr>\n",
       "    <tr>\n",
       "      <th>24</th>\n",
       "      <td>praivettwt</td>\n",
       "      <td>AKU SUKA AYAM GEPREK TP TD BERLEBIHAN ANJING p...</td>\n",
       "      <td>Mon May 05 14:29:00 +0000 2025</td>\n",
       "    </tr>\n",
       "    <tr>\n",
       "      <th>26</th>\n",
       "      <td>praivettwt</td>\n",
       "      <td>CAPEKKNYA BANYAK BTL TUGAS</td>\n",
       "      <td>Sun May 04 15:30:52 +0000 2025</td>\n",
       "    </tr>\n",
       "    <tr>\n",
       "      <th>29</th>\n",
       "      <td>praivettwt</td>\n",
       "      <td>CAPEK</td>\n",
       "      <td>Sun May 04 05:12:44 +0000 2025</td>\n",
       "    </tr>\n",
       "    <tr>\n",
       "      <th>35</th>\n",
       "      <td>praivettwt</td>\n",
       "      <td>MAU MATI AJA RASANYA</td>\n",
       "      <td>Sat May 03 01:23:59 +0000 2025</td>\n",
       "    </tr>\n",
       "    <tr>\n",
       "      <th>37</th>\n",
       "      <td>praivettwt</td>\n",
       "      <td>Males banget maksa jalan terus anjajjajaj</td>\n",
       "      <td>Fri May 02 11:41:31 +0000 2025</td>\n",
       "    </tr>\n",
       "    <tr>\n",
       "      <th>45</th>\n",
       "      <td>praivettwt</td>\n",
       "      <td>Capek</td>\n",
       "      <td>Sun Apr 27 12:41:42 +0000 2025</td>\n",
       "    </tr>\n",
       "    <tr>\n",
       "      <th>58</th>\n",
       "      <td>praivettwt</td>\n",
       "      <td>Lelah dengan kehidupan mau mati</td>\n",
       "      <td>Sat Apr 26 14:46:45 +0000 2025</td>\n",
       "    </tr>\n",
       "  </tbody>\n",
       "</table>\n",
       "</div>"
      ],
      "text/plain": [
       "      username                                          full_text  \\\n",
       "0   praivettwt             Mau bulking tapi malah takut jd fatty    \n",
       "2   praivettwt                                  PUSING BANGET PLS   \n",
       "6   praivettwt       Anak gajah meninggal sedih banget mau nangis   \n",
       "18  praivettwt                     Stress banget banyak tugas pls   \n",
       "24  praivettwt  AKU SUKA AYAM GEPREK TP TD BERLEBIHAN ANJING p...   \n",
       "26  praivettwt                         CAPEKKNYA BANYAK BTL TUGAS   \n",
       "29  praivettwt                                              CAPEK   \n",
       "35  praivettwt                               MAU MATI AJA RASANYA   \n",
       "37  praivettwt          Males banget maksa jalan terus anjajjajaj   \n",
       "45  praivettwt                                              Capek   \n",
       "58  praivettwt                   Lelah dengan kehidupan mau mati    \n",
       "\n",
       "                        created_at  \n",
       "0   Tue May 13 11:05:34 +0000 2025  \n",
       "2   Tue May 13 11:04:25 +0000 2025  \n",
       "6   Mon May 12 15:12:36 +0000 2025  \n",
       "18  Sun May 11 00:39:01 +0000 2025  \n",
       "24  Mon May 05 14:29:00 +0000 2025  \n",
       "26  Sun May 04 15:30:52 +0000 2025  \n",
       "29  Sun May 04 05:12:44 +0000 2025  \n",
       "35  Sat May 03 01:23:59 +0000 2025  \n",
       "37  Fri May 02 11:41:31 +0000 2025  \n",
       "45  Sun Apr 27 12:41:42 +0000 2025  \n",
       "58  Sat Apr 26 14:46:45 +0000 2025  "
      ]
     },
     "metadata": {},
     "output_type": "display_data"
    },
    {
     "name": "stdout",
     "output_type": "stream",
     "text": [
      "Jumlah tweet terkait stres: 11\n",
      "Hasil filter disimpan ke: tweets-data/stress_tweets.csv\n"
     ]
    }
   ],
   "source": [
    "# Filter tweet terkait stres dan simpan ke CSV baru\n",
    "import pandas as pd\n",
    "\n",
    "# Daftar kata kunci stres\n",
    "stress_keywords = ['bodo', 'susah', 'tidur', 'insom', 'pikir', 'ketawa', 'bully','jahat','kuat', 'percaya', 'diri', 'mimpi', 'pasrah', 'sedih', 'gila', 'stress', 'depresi', 'lelah', 'putus', 'asa', 'cemas', 'takut', 'pusing', 'capek', 'ovt', 'kesel', 'marah', 'kesepian', 'overthinking', 'down', 'sakit', 'hati', 'gagal', 'tekanan', 'frustrasi', 'jenuh', 'males', 'panik', 'hancur', 'musuh']\n",
    "\n",
    "# Filter tweet yang mengandung kata kunci (case-insensitive, abaikan NA)\n",
    "df_stress = df[df['full_text'].str.contains('|'.join(stress_keywords), case=False, na=False)]\n",
    "\n",
    "# Tampilkan hasil\n",
    "display(df_stress[['username', 'full_text', 'created_at']])\n",
    "print(f\"Jumlah tweet terkait stres: {len(df_stress)}\")\n",
    "\n",
    "# Simpan hasil ke CSV baru\n",
    "output_csv = 'tweets-data/stress_tweets.csv'\n",
    "df_stress.to_csv(output_csv, index=False)\n",
    "print(f\"Hasil filter disimpan ke: {output_csv}\")"
   ]
  }
 ],
 "metadata": {
  "kernelspec": {
   "display_name": "venv",
   "language": "python",
   "name": "python3"
  },
  "language_info": {
   "codemirror_mode": {
    "name": "ipython",
    "version": 3
   },
   "file_extension": ".py",
   "mimetype": "text/x-python",
   "name": "python",
   "nbconvert_exporter": "python",
   "pygments_lexer": "ipython3",
   "version": "3.13.3"
  }
 },
 "nbformat": 4,
 "nbformat_minor": 5
}
