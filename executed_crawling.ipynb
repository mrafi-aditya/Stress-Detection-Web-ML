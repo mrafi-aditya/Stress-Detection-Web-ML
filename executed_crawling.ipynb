{
 "cells": [
  {
   "cell_type": "code",
   "execution_count": 1,
   "id": "8c54b02c",
   "metadata": {
    "execution": {
     "iopub.execute_input": "2025-07-15T23:14:24.122771Z",
     "iopub.status.busy": "2025-07-15T23:14:24.122305Z",
     "iopub.status.idle": "2025-07-15T23:14:33.319630Z",
     "shell.execute_reply": "2025-07-15T23:14:33.317645Z"
    }
   },
   "outputs": [
    {
     "name": "stdout",
     "output_type": "stream",
     "text": [
      "Requirement already satisfied: pandas in c:\\stressapp\\venv\\lib\\site-packages (2.2.3)\n",
      "Requirement already satisfied: numpy>=1.26.0 in c:\\stressapp\\venv\\lib\\site-packages (from pandas) (2.2.5)\n",
      "Requirement already satisfied: python-dateutil>=2.8.2 in c:\\stressapp\\venv\\lib\\site-packages (from pandas) (2.9.0.post0)\n",
      "Requirement already satisfied: pytz>=2020.1 in c:\\stressapp\\venv\\lib\\site-packages (from pandas) (2025.2)\n",
      "Requirement already satisfied: tzdata>=2022.7 in c:\\stressapp\\venv\\lib\\site-packages (from pandas) (2025.2)\n",
      "Requirement already satisfied: six>=1.5 in c:\\stressapp\\venv\\lib\\site-packages (from python-dateutil>=2.8.2->pandas) (1.17.0)\n"
     ]
    },
    {
     "name": "stderr",
     "output_type": "stream",
     "text": [
      "\n",
      "[notice] A new release of pip is available: 25.0.1 -> 25.1.1\n",
      "[notice] To update, run: python.exe -m pip install --upgrade pip\n"
     ]
    },
    {
     "name": "stderr",
     "output_type": "stream",
     "text": [
      "Sudo is disabled on this machine. To enable it, go to the \u001b]8;;ms-settings:developers\u001b\\Developer Settings page\u001b]8;;\u001b\\ in the Settings app\n"
     ]
    },
    {
     "name": "stderr",
     "output_type": "stream",
     "text": [
      "Sudo is disabled on this machine. To enable it, go to the \u001b]8;;ms-settings:developers\u001b\\Developer Settings page\u001b]8;;\u001b\\ in the Settings app\n"
     ]
    },
    {
     "name": "stderr",
     "output_type": "stream",
     "text": [
      "Sudo is disabled on this machine. To enable it, go to the \u001b]8;;ms-settings:developers\u001b\\Developer Settings page\u001b]8;;\u001b\\ in the Settings app\n"
     ]
    },
    {
     "name": "stderr",
     "output_type": "stream",
     "text": [
      "Sudo is disabled on this machine. To enable it, go to the \u001b]8;;ms-settings:developers\u001b\\Developer Settings page\u001b]8;;\u001b\\ in the Settings app\n"
     ]
    },
    {
     "name": "stderr",
     "output_type": "stream",
     "text": [
      "'NODE_MAJOR' is not recognized as an internal or external command,\n",
      "operable program or batch file.\n"
     ]
    },
    {
     "name": "stderr",
     "output_type": "stream",
     "text": [
      "Sudo is disabled on this machine. To enable it, go to the \u001b]8;;ms-settings:developers\u001b\\Developer Settings page\u001b]8;;\u001b\\ in the Settings app\n"
     ]
    },
    {
     "name": "stderr",
     "output_type": "stream",
     "text": [
      "Sudo is disabled on this machine. To enable it, go to the \u001b]8;;ms-settings:developers\u001b\\Developer Settings page\u001b]8;;\u001b\\ in the Settings app\n"
     ]
    },
    {
     "name": "stdout",
     "output_type": "stream",
     "text": [
      "v22.14.0\n"
     ]
    }
   ],
   "source": [
    "# Cell 1: Instal dependensi\n",
    "!pip install pandas\n",
    "!sudo apt-get update\n",
    "!sudo apt-get install -y ca-certificates curl gnupg\n",
    "!sudo mkdir -p /etc/apt/keyrings\n",
    "!curl -fsSL https://deb.nodesource.com/gpgkey/nodesource-repo.gpg.key | sudo gpg --dearmor -o /etc/apt/keyrings/nodesource.gpg\n",
    "!NODE_MAJOR=20 && echo \"deb [signed-by=/etc/apt/keyrings/nodesource.gpg] https://deb.nodesource.com/node_$NODE_MAJOR.x nodistro main\" | sudo tee /etc/apt/sources.list.d/nodesource.list\n",
    "!sudo apt-get update\n",
    "!sudo apt-get install nodejs -y\n",
    "!node -v"
   ]
  },
  {
   "cell_type": "code",
   "execution_count": 2,
   "id": "f2b1bbe1",
   "metadata": {
    "execution": {
     "iopub.execute_input": "2025-07-15T23:14:33.325393Z",
     "iopub.status.busy": "2025-07-15T23:14:33.324774Z",
     "iopub.status.idle": "2025-07-15T23:14:33.331743Z",
     "shell.execute_reply": "2025-07-15T23:14:33.330197Z"
    }
   },
   "outputs": [],
   "source": [
    "# Cell 2: Set token\n",
    "twitter_auth_token = 'd02c899d82bd48baa99ad566d782a355e7de9ed9'"
   ]
  },
  {
   "cell_type": "code",
   "execution_count": 3,
   "id": "011ee70e",
   "metadata": {
    "execution": {
     "iopub.execute_input": "2025-07-15T23:14:33.338127Z",
     "iopub.status.busy": "2025-07-15T23:14:33.337473Z",
     "iopub.status.idle": "2025-07-15T23:14:33.344817Z",
     "shell.execute_reply": "2025-07-15T23:14:33.343635Z"
    }
   },
   "outputs": [],
   "source": [
    "# Cell 3: Crawl data\n",
    "import datetime\n",
    "\n",
    "# Generate dynamic dates\n",
    "current_date = datetime.datetime.now().strftime('%Y-%m-%d')  # Current date: YYYY-MM-DD\n",
    "one_year_ago = (datetime.datetime.now() - datetime.timedelta(days=365)).strftime('%Y-%m-%d')  # One year ago: YYYY-MM-DD"
   ]
  },
  {
   "cell_type": "code",
   "execution_count": 4,
   "id": "80625cf8",
   "metadata": {
    "execution": {
     "iopub.execute_input": "2025-07-15T23:14:33.350607Z",
     "iopub.status.busy": "2025-07-15T23:14:33.349994Z",
     "iopub.status.idle": "2025-07-15T23:14:33.358344Z",
     "shell.execute_reply": "2025-07-15T23:14:33.357042Z"
    }
   },
   "outputs": [],
   "source": [
    "# BACA USERNAME DARI FILE\n",
    "with open('username.txt', 'r') as f:\n",
    "    username = f.read().strip()"
   ]
  },
  {
   "cell_type": "code",
   "execution_count": 5,
   "id": "3f71c3a7",
   "metadata": {
    "execution": {
     "iopub.execute_input": "2025-07-15T23:14:33.365139Z",
     "iopub.status.busy": "2025-07-15T23:14:33.364184Z",
     "iopub.status.idle": "2025-07-15T23:17:42.610822Z",
     "shell.execute_reply": "2025-07-15T23:17:42.605313Z"
    }
   },
   "outputs": [
    {
     "name": "stdout",
     "output_type": "stream",
     "text": [
      "\u001b[1m\u001b[32mTweet Harvest [v2.6.1]\u001b[39m\u001b[22m\n",
      "\u001b[1m\u001b[32m\u001b[39m\u001b[22m\n",
      "\u001b[34mResearch by \u001b[39m\u001b[1m\u001b[34mHelmi Satria\u001b[39m\u001b[22m\u001b[34m\u001b[39m\n",
      "\u001b[34mUse it for Educational Purposes only!\u001b[39m\n",
      "\u001b[34m\u001b[39m\n",
      "\u001b[33mThis script uses Chromium Browser to crawl data from Twitter with \u001b[1myour Twitter auth token\u001b[22m.\u001b[39m\n",
      "\u001b[33mPlease enter your Twitter auth token when prompted.\u001b[39m\n",
      "\u001b[33m\u001b[39m\n",
      "\u001b[31m\u001b[1mNote:\u001b[22m\u001b[39m Keep your access token secret! Don't share it with anyone else.\n",
      "\u001b[31m\u001b[1mNote:\u001b[22m\u001b[39m This script only runs on your local device.\n",
      "\n",
      "\u001b[34m\u001b[39m\n",
      "\u001b[34mOpening twitter search page...\u001b[39m\n",
      "\u001b[34m\u001b[39m\n",
      "\u001b[34m\u001b[39m\n",
      "\u001b[34mFound existing file ./tweets-data/save_tweets.csv, renaming to ./tweets-data/save_tweets.old.csv\u001b[39m\n",
      "\u001b[33m\u001b[39m\n",
      "\u001b[33mFilling in keywords: from:kkaorou since:2024-07-16 until:2025-07-16\u001b[39m\n",
      "\u001b[33m\u001b[39m\n",
      "\u001b[90m\u001b[39m\n",
      "\u001b[90m-- Scrolling... (1)\u001b[39m\u001b[90m (2)\u001b[39m\u001b[90m (3)\u001b[39m\u001b[34m\u001b[39m\n",
      "\u001b[34m\u001b[39m\n",
      "\u001b[34mYour tweets saved to: C:\\StressAPP\\tweets-data\\save_tweets.csv\u001b[39m\n",
      "\u001b[33mTotal tweets saved: 20\u001b[39m\n",
      "\u001b[90m\u001b[39m\n",
      "\u001b[90m-- Scrolling... (1)\u001b[39m\u001b[90m (2)\u001b[39m\u001b[34m\u001b[39m\n",
      "\u001b[34m\u001b[39m\n",
      "\u001b[34mYour tweets saved to: C:\\StressAPP\\tweets-data\\save_tweets.csv\u001b[39m\n",
      "\u001b[33mTotal tweets saved: 40\u001b[39m\n",
      "\u001b[90m\u001b[39m\n",
      "\u001b[90m-- Scrolling... (1)\u001b[39m\u001b[34m\u001b[39m\n",
      "\u001b[34m\u001b[39m\n",
      "\u001b[34mYour tweets saved to: C:\\StressAPP\\tweets-data\\save_tweets.csv\u001b[39m\n",
      "\u001b[33mTotal tweets saved: 60\u001b[39m\n",
      "\u001b[90m\u001b[39m\n",
      "\u001b[90m-- Scrolling... (1)\u001b[39m\u001b[34m\u001b[39m\n",
      "\u001b[34m\u001b[39m\n",
      "\u001b[34mYour tweets saved to: C:\\StressAPP\\tweets-data\\save_tweets.csv\u001b[39m\n",
      "\u001b[33mTotal tweets saved: 80\u001b[39m\n",
      "\u001b[90m\u001b[39m\n",
      "\u001b[90m-- Scrolling... (1)\u001b[39m\u001b[34m\u001b[39m\n",
      "\u001b[34m\u001b[39m\n",
      "\u001b[34mYour tweets saved to: C:\\StressAPP\\tweets-data\\save_tweets.csv\u001b[39m\n",
      "\u001b[33mTotal tweets saved: 87\u001b[39m\n",
      "\u001b[90m\u001b[39m\n",
      "\u001b[90m-- Scrolling... (1)\u001b[39m\u001b[90m (2)\u001b[39m\u001b[90m (3)\u001b[39m\u001b[90m (4)\u001b[39m\u001b[90m (5)\u001b[39m\u001b[90m (6)\u001b[39m\u001b[90m (7)\u001b[39m\u001b[90m (8)\u001b[39m\u001b[90m (9)\u001b[39m\u001b[90m (10)\u001b[39m\u001b[90m (11)\u001b[39m\u001b[90m (12)\u001b[39m\u001b[90m (13)\u001b[39m\u001b[90m (14)\u001b[39m\u001b[90m (15)\u001b[39m\u001b[90m (16)\u001b[39m\u001b[90m (17)\u001b[39m\u001b[90m (18)\u001b[39m\u001b[90m (19)\u001b[39m\u001b[90m (20)\u001b[39m\u001b[90m (21)\u001b[39m\u001b[33mNo more tweets found, please check your search criteria and csv file result\u001b[39m\n",
      "\u001b[33mTimeout reached 1 times, making sure again...\u001b[39m\n",
      "\u001b[90m\u001b[39m\n",
      "\u001b[90m-- Scrolling... (1)\u001b[39m\u001b[90m (2)\u001b[39m\u001b[90m (3)\u001b[39m\u001b[90m (4)\u001b[39m\u001b[90m (5)\u001b[39m\u001b[90m (6)\u001b[39m\u001b[90m (7)\u001b[39m\u001b[90m (8)\u001b[39m\u001b[90m (9)\u001b[39m\u001b[90m (10)\u001b[39m\u001b[90m (11)\u001b[39m\u001b[90m (12)\u001b[39m\u001b[90m (13)\u001b[39m\u001b[90m (14)\u001b[39m\u001b[90m (15)\u001b[39m\u001b[90m (16)\u001b[39m\u001b[90m (17)\u001b[39m\u001b[90m (18)\u001b[39m\u001b[90m (19)\u001b[39m\u001b[90m (20)\u001b[39m\u001b[90m (21)\u001b[39m\u001b[33mNo more tweets found, please check your search criteria and csv file result\u001b[39m\n",
      "\u001b[33mTimeout reached 2 times, making sure again...\u001b[39m\n",
      "\u001b[90m\u001b[39m\n",
      "\u001b[90m-- Scrolling... (1)\u001b[39m\u001b[90m (2)\u001b[39m\u001b[90m (3)\u001b[39m\u001b[90m (4)\u001b[39m\u001b[90m (5)\u001b[39m\u001b[90m (6)\u001b[39m\u001b[90m (7)\u001b[39m\u001b[90m (8)\u001b[39m\u001b[90m (9)\u001b[39m\u001b[90m (10)\u001b[39m\u001b[90m (11)\u001b[39m\u001b[90m (12)\u001b[39m\u001b[90m (13)\u001b[39m\u001b[90m (14)\u001b[39m\u001b[90m (15)\u001b[39m\u001b[90m (16)\u001b[39m\u001b[90m (17)\u001b[39m\u001b[90m (18)\u001b[39m\u001b[90m (19)\u001b[39m\u001b[90m (20)\u001b[39m\u001b[90m (21)\u001b[39m\u001b[33mNo more tweets found, please check your search criteria and csv file result\u001b[39m\n",
      "\u001b[33mTimeout reached 3 times, making sure again...\u001b[39m\n",
      "\u001b[90m\u001b[39m\n",
      "\u001b[90m-- Scrolling... (1)\u001b[39m\u001b[90m (2)\u001b[39m\u001b[90m (3)\u001b[39m\u001b[90m (4)\u001b[39m\u001b[90m (5)\u001b[39m\u001b[90m (6)\u001b[39m\u001b[90m (7)\u001b[39m\u001b[90m (8)\u001b[39m\u001b[90m (9)\u001b[39m\u001b[90m (10)\u001b[39m\u001b[90m (11)\u001b[39m\u001b[90m (12)\u001b[39m\u001b[90m (13)\u001b[39m\u001b[90m (14)\u001b[39m\u001b[90m (15)\u001b[39m\u001b[90m (16)\u001b[39m\u001b[90m (17)\u001b[39m\u001b[90m (18)\u001b[39m\u001b[90m (19)\u001b[39m\u001b[90m (20)\u001b[39mGot 87 tweets, done scrolling...\n"
     ]
    },
    {
     "name": "stderr",
     "output_type": "stream",
     "text": [
      "\u001b[90m[v2.6.1]\u001b[39m No more tweets found, please check your search criteria and csv file result\n",
      "\u001b[90m[v2.6.1]\u001b[39m No more tweets found, please check your search criteria and csv file result\n"
     ]
    }
   ],
   "source": [
    "# Cell 3: Crawl data\n",
    "# Nama file\n",
    "filename = 'save_tweets.csv'\n",
    "\n",
    "search_keyword = f'from:{username} since:{one_year_ago} until:{current_date}'\n",
    "limit = 100\n",
    "\n",
    "!npx -y tweet-harvest@2.6.1 -o \"{filename}\" -s \"{search_keyword}\" --tab \"LATEST\" -l {limit} --token {twitter_auth_token}"
   ]
  },
  {
   "cell_type": "code",
   "execution_count": 6,
   "id": "81bfce2a",
   "metadata": {
    "execution": {
     "iopub.execute_input": "2025-07-15T23:17:42.666223Z",
     "iopub.status.busy": "2025-07-15T23:17:42.665113Z",
     "iopub.status.idle": "2025-07-15T23:17:44.456202Z",
     "shell.execute_reply": "2025-07-15T23:17:44.454823Z"
    }
   },
   "outputs": [
    {
     "data": {
      "text/html": [
       "<div>\n",
       "<style scoped>\n",
       "    .dataframe tbody tr th:only-of-type {\n",
       "        vertical-align: middle;\n",
       "    }\n",
       "\n",
       "    .dataframe tbody tr th {\n",
       "        vertical-align: top;\n",
       "    }\n",
       "\n",
       "    .dataframe thead th {\n",
       "        text-align: right;\n",
       "    }\n",
       "</style>\n",
       "<table border=\"1\" class=\"dataframe\">\n",
       "  <thead>\n",
       "    <tr style=\"text-align: right;\">\n",
       "      <th></th>\n",
       "      <th>conversation_id_str</th>\n",
       "      <th>created_at</th>\n",
       "      <th>favorite_count</th>\n",
       "      <th>full_text</th>\n",
       "      <th>id_str</th>\n",
       "      <th>image_url</th>\n",
       "      <th>in_reply_to_screen_name</th>\n",
       "      <th>lang</th>\n",
       "      <th>location</th>\n",
       "      <th>quote_count</th>\n",
       "      <th>reply_count</th>\n",
       "      <th>retweet_count</th>\n",
       "      <th>tweet_url</th>\n",
       "      <th>user_id_str</th>\n",
       "      <th>username</th>\n",
       "    </tr>\n",
       "  </thead>\n",
       "  <tbody>\n",
       "    <tr>\n",
       "      <th>0</th>\n",
       "      <td>1915568547348308406</td>\n",
       "      <td>Fri Apr 25 00:48:25 +0000 2025</td>\n",
       "      <td>3</td>\n",
       "      <td>ada kompensasi ngga nasabah dirugiin udah sebu...</td>\n",
       "      <td>1915568547348308406</td>\n",
       "      <td>NaN</td>\n",
       "      <td>NaN</td>\n",
       "      <td>in</td>\n",
       "      <td>NaN</td>\n",
       "      <td>0</td>\n",
       "      <td>0</td>\n",
       "      <td>0</td>\n",
       "      <td>https://x.com/undefined/status/191556854734830...</td>\n",
       "      <td>809228121622777856</td>\n",
       "      <td>NaN</td>\n",
       "    </tr>\n",
       "    <tr>\n",
       "      <th>1</th>\n",
       "      <td>1911086223344668901</td>\n",
       "      <td>Sat Apr 12 15:57:16 +0000 2025</td>\n",
       "      <td>0</td>\n",
       "      <td>gue nggak suka disuruh sabar. oke next time be...</td>\n",
       "      <td>1911086223344668901</td>\n",
       "      <td>NaN</td>\n",
       "      <td>NaN</td>\n",
       "      <td>in</td>\n",
       "      <td>NaN</td>\n",
       "      <td>0</td>\n",
       "      <td>0</td>\n",
       "      <td>0</td>\n",
       "      <td>https://x.com/undefined/status/191108622334466...</td>\n",
       "      <td>809228121622777856</td>\n",
       "      <td>NaN</td>\n",
       "    </tr>\n",
       "    <tr>\n",
       "      <th>2</th>\n",
       "      <td>1911042506021896196</td>\n",
       "      <td>Sat Apr 12 13:03:33 +0000 2025</td>\n",
       "      <td>0</td>\n",
       "      <td>fzagz dipikir2 cp durhaka bjir. udahlah main b...</td>\n",
       "      <td>1911042506021896196</td>\n",
       "      <td>NaN</td>\n",
       "      <td>NaN</td>\n",
       "      <td>in</td>\n",
       "      <td>NaN</td>\n",
       "      <td>0</td>\n",
       "      <td>0</td>\n",
       "      <td>0</td>\n",
       "      <td>https://x.com/undefined/status/191104250602189...</td>\n",
       "      <td>809228121622777856</td>\n",
       "      <td>NaN</td>\n",
       "    </tr>\n",
       "    <tr>\n",
       "      <th>3</th>\n",
       "      <td>1909421808442654748</td>\n",
       "      <td>Tue Apr 08 03:01:24 +0000 2025</td>\n",
       "      <td>0</td>\n",
       "      <td>@saptaipb ngga bisa beli mas</td>\n",
       "      <td>1909441417619161490</td>\n",
       "      <td>NaN</td>\n",
       "      <td>saptaipb</td>\n",
       "      <td>in</td>\n",
       "      <td>NaN</td>\n",
       "      <td>0</td>\n",
       "      <td>0</td>\n",
       "      <td>0</td>\n",
       "      <td>https://x.com/undefined/status/190944141761916...</td>\n",
       "      <td>809228121622777856</td>\n",
       "      <td>NaN</td>\n",
       "    </tr>\n",
       "    <tr>\n",
       "      <th>4</th>\n",
       "      <td>1907436965169107276</td>\n",
       "      <td>Wed Apr 02 14:16:25 +0000 2025</td>\n",
       "      <td>1</td>\n",
       "      <td>halo @bank_dki saya ingin mengajukan keluhan t...</td>\n",
       "      <td>1907436965169107276</td>\n",
       "      <td>NaN</td>\n",
       "      <td>NaN</td>\n",
       "      <td>in</td>\n",
       "      <td>NaN</td>\n",
       "      <td>0</td>\n",
       "      <td>0</td>\n",
       "      <td>0</td>\n",
       "      <td>https://x.com/undefined/status/190743696516910...</td>\n",
       "      <td>809228121622777856</td>\n",
       "      <td>NaN</td>\n",
       "    </tr>\n",
       "  </tbody>\n",
       "</table>\n",
       "</div>"
      ],
      "text/plain": [
       "   conversation_id_str                      created_at  favorite_count  \\\n",
       "0  1915568547348308406  Fri Apr 25 00:48:25 +0000 2025               3   \n",
       "1  1911086223344668901  Sat Apr 12 15:57:16 +0000 2025               0   \n",
       "2  1911042506021896196  Sat Apr 12 13:03:33 +0000 2025               0   \n",
       "3  1909421808442654748  Tue Apr 08 03:01:24 +0000 2025               0   \n",
       "4  1907436965169107276  Wed Apr 02 14:16:25 +0000 2025               1   \n",
       "\n",
       "                                           full_text               id_str  \\\n",
       "0  ada kompensasi ngga nasabah dirugiin udah sebu...  1915568547348308406   \n",
       "1  gue nggak suka disuruh sabar. oke next time be...  1911086223344668901   \n",
       "2  fzagz dipikir2 cp durhaka bjir. udahlah main b...  1911042506021896196   \n",
       "3                       @saptaipb ngga bisa beli mas  1909441417619161490   \n",
       "4  halo @bank_dki saya ingin mengajukan keluhan t...  1907436965169107276   \n",
       "\n",
       "  image_url in_reply_to_screen_name lang  location  quote_count  reply_count  \\\n",
       "0       NaN                     NaN   in       NaN            0            0   \n",
       "1       NaN                     NaN   in       NaN            0            0   \n",
       "2       NaN                     NaN   in       NaN            0            0   \n",
       "3       NaN                saptaipb   in       NaN            0            0   \n",
       "4       NaN                     NaN   in       NaN            0            0   \n",
       "\n",
       "   retweet_count                                          tweet_url  \\\n",
       "0              0  https://x.com/undefined/status/191556854734830...   \n",
       "1              0  https://x.com/undefined/status/191108622334466...   \n",
       "2              0  https://x.com/undefined/status/191104250602189...   \n",
       "3              0  https://x.com/undefined/status/190944141761916...   \n",
       "4              0  https://x.com/undefined/status/190743696516910...   \n",
       "\n",
       "          user_id_str  username  \n",
       "0  809228121622777856       NaN  \n",
       "1  809228121622777856       NaN  \n",
       "2  809228121622777856       NaN  \n",
       "3  809228121622777856       NaN  \n",
       "4  809228121622777856       NaN  "
      ]
     },
     "metadata": {},
     "output_type": "display_data"
    },
    {
     "name": "stdout",
     "output_type": "stream",
     "text": [
      "File 'tweets-data/save_tweets.csv' sudah ada dan akan diganti (replace).\n",
      "Jumlah tweet dalam dataframe adalah 87.\n"
     ]
    }
   ],
   "source": [
    "# Cell 4: Baca dan filter data\n",
    "import pandas as pd\n",
    "import os\n",
    "\n",
    "file_path = f\"tweets-data/{filename}\"\n",
    "df = pd.read_csv(file_path, delimiter=\",\")\n",
    "display(df.head())\n",
    "\n",
    "# Cek apakah file sudah ada\n",
    "if os.path.exists(file_path):\n",
    "    print(f\"File '{file_path}' sudah ada dan akan diganti (replace).\")\n",
    "\n",
    "num_tweets = len(df)\n",
    "print(f\"Jumlah tweet dalam dataframe adalah {num_tweets}.\")"
   ]
  },
  {
   "cell_type": "code",
   "execution_count": 7,
   "id": "999afbaf",
   "metadata": {
    "execution": {
     "iopub.execute_input": "2025-07-15T23:17:44.462356Z",
     "iopub.status.busy": "2025-07-15T23:17:44.461632Z",
     "iopub.status.idle": "2025-07-15T23:17:44.467616Z",
     "shell.execute_reply": "2025-07-15T23:17:44.466607Z"
    }
   },
   "outputs": [],
   "source": [
    "# import pandas as pd\n",
    "# import os\n",
    "\n",
    "# # Daftar kata kunci stres\n",
    "# stress_keywords = ['bodo', 'susah', 'tidur', 'insom', 'pikir', 'ketawa', 'bully','jahat','kuat', 'mati',\n",
    "#                     'sedih','cemburu', 'muak', 'gelisah', 'kecewa', 'tertekan', 'menyerah', 'hampa', 'rapuh', \n",
    "#                     'kalut', 'berat', 'malas', 'bimbang', 'murung', 'mengganggu', 'ragu', 'bingung', 'hancur', \n",
    "#                     'parah', 'resah', 'tersiksa', 'terpuruk', 'kesakitan', 'mengeluh', \n",
    "#                     'tersesat', 'emosi', 'kehilangan', 'penderitaan', 'merana', 'berduka', 'meriang', 'berantakan', 'stressful', \n",
    "#                     'percaya', 'diri', 'mimpi', 'pasrah', 'sedih', 'gila', 'stress', 'depresi', 'lelah', \n",
    "#                     'putus', 'asa','cemas', 'takut', 'pusing', 'cape', 'ovt', 'kesel', 'marah', 'kesepian', \n",
    "#                     'overthinking', 'down', 'sakit', 'hati', 'gagal', 'tekanan', 'frustrasi', 'jenuh', 'males', 'panik', 'hancur', 'musuh']\n",
    "\n",
    "# # Filter tweet yang mengandung kata kunci (case-insensitive, abaikan NA)\n",
    "# df_stress = df[df['full_text'].str.contains('|'.join(stress_keywords), case=False, na=False)]\n",
    "\n",
    "# # Tampilkan hasil\n",
    "# display(df_stress[['username', 'full_text', 'created_at']])\n",
    "# print(f\"Jumlah tweet terkait stres: {len(df_stress)}\")\n",
    "\n",
    "# # Path ke file CSV\n",
    "# output_csv = 'tweets-data/stress_tweets.csv'\n",
    "\n",
    "# # Hapus file lama jika ada\n",
    "# if os.path.exists(output_csv):\n",
    "#     os.remove(output_csv)\n",
    "#     print(f\"File lama '{output_csv}' telah dihapus.\")\n",
    "\n",
    "# # Simpan hasil ke CSV baru\n",
    "# df_stress.to_csv(output_csv, index=False)\n",
    "# print(f\"Hasil filter disimpan ke: {output_csv}\")\n"
   ]
  }
 ],
 "metadata": {
  "kernelspec": {
   "display_name": "venv",
   "language": "python",
   "name": "python3"
  },
  "language_info": {
   "codemirror_mode": {
    "name": "ipython",
    "version": 3
   },
   "file_extension": ".py",
   "mimetype": "text/x-python",
   "name": "python",
   "nbconvert_exporter": "python",
   "pygments_lexer": "ipython3",
   "version": "3.13.3"
  }
 },
 "nbformat": 4,
 "nbformat_minor": 5
}
