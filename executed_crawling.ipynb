{
 "cells": [
  {
   "cell_type": "code",
   "execution_count": 1,
   "id": "8c54b02c",
   "metadata": {
    "execution": {
     "iopub.execute_input": "2025-07-20T06:05:47.994646Z",
     "iopub.status.busy": "2025-07-20T06:05:47.994033Z",
     "iopub.status.idle": "2025-07-20T06:05:55.489815Z",
     "shell.execute_reply": "2025-07-20T06:05:55.486647Z"
    },
    "papermill": {
     "duration": 7.511821,
     "end_time": "2025-07-20T06:05:55.497439",
     "exception": false,
     "start_time": "2025-07-20T06:05:47.985618",
     "status": "completed"
    },
    "tags": []
   },
   "outputs": [
    {
     "name": "stdout",
     "output_type": "stream",
     "text": [
      "Requirement already satisfied: pandas in c:\\stressapp\\venv\\lib\\site-packages (2.2.3)\n",
      "Requirement already satisfied: numpy>=1.26.0 in c:\\stressapp\\venv\\lib\\site-packages (from pandas) (2.2.5)\n",
      "Requirement already satisfied: python-dateutil>=2.8.2 in c:\\stressapp\\venv\\lib\\site-packages (from pandas) (2.9.0.post0)\n",
      "Requirement already satisfied: pytz>=2020.1 in c:\\stressapp\\venv\\lib\\site-packages (from pandas) (2025.2)\n",
      "Requirement already satisfied: tzdata>=2022.7 in c:\\stressapp\\venv\\lib\\site-packages (from pandas) (2025.2)\n",
      "Requirement already satisfied: six>=1.5 in c:\\stressapp\\venv\\lib\\site-packages (from python-dateutil>=2.8.2->pandas) (1.17.0)\n"
     ]
    },
    {
     "name": "stderr",
     "output_type": "stream",
     "text": [
      "\n",
      "[notice] A new release of pip is available: 25.0.1 -> 25.1.1\n",
      "[notice] To update, run: python.exe -m pip install --upgrade pip\n"
     ]
    },
    {
     "name": "stderr",
     "output_type": "stream",
     "text": [
      "Sudo is disabled on this machine. To enable it, go to the \u001b]8;;ms-settings:developers\u001b\\Developer Settings page\u001b]8;;\u001b\\ in the Settings app\n"
     ]
    },
    {
     "name": "stderr",
     "output_type": "stream",
     "text": [
      "Sudo is disabled on this machine. To enable it, go to the \u001b]8;;ms-settings:developers\u001b\\Developer Settings page\u001b]8;;\u001b\\ in the Settings app\n"
     ]
    },
    {
     "name": "stderr",
     "output_type": "stream",
     "text": [
      "Sudo is disabled on this machine. To enable it, go to the \u001b]8;;ms-settings:developers\u001b\\Developer Settings page\u001b]8;;\u001b\\ in the Settings app"
     ]
    },
    {
     "name": "stderr",
     "output_type": "stream",
     "text": [
      "\n"
     ]
    },
    {
     "name": "stderr",
     "output_type": "stream",
     "text": [
      "Sudo is disabled on this machine. To enable it, go to the \u001b]8;;ms-settings:developers\u001b\\Developer Settings page\u001b]8;;\u001b\\ in the Settings app\n"
     ]
    },
    {
     "name": "stderr",
     "output_type": "stream",
     "text": [
      "'NODE_MAJOR' is not recognized as an internal or external command,\n",
      "operable program or batch file.\n"
     ]
    },
    {
     "name": "stderr",
     "output_type": "stream",
     "text": [
      "Sudo is disabled on this machine. To enable it, go to the \u001b]8;;ms-settings:developers\u001b\\Developer Settings page\u001b]8;;\u001b\\ in the Settings app\n"
     ]
    },
    {
     "name": "stderr",
     "output_type": "stream",
     "text": [
      "Sudo is disabled on this machine. To enable it, go to the \u001b]8;;ms-settings:developers\u001b\\Developer Settings page\u001b]8;;\u001b\\ in the Settings app\n"
     ]
    },
    {
     "name": "stdout",
     "output_type": "stream",
     "text": [
      "v22.14.0\n"
     ]
    }
   ],
   "source": [
    "# Cell 1: Instal dependensi\n",
    "!pip install pandas\n",
    "!sudo apt-get update\n",
    "!sudo apt-get install -y ca-certificates curl gnupg\n",
    "!sudo mkdir -p /etc/apt/keyrings\n",
    "!curl -fsSL https://deb.nodesource.com/gpgkey/nodesource-repo.gpg.key | sudo gpg --dearmor -o /etc/apt/keyrings/nodesource.gpg\n",
    "!NODE_MAJOR=20 && echo \"deb [signed-by=/etc/apt/keyrings/nodesource.gpg] https://deb.nodesource.com/node_$NODE_MAJOR.x nodistro main\" | sudo tee /etc/apt/sources.list.d/nodesource.list\n",
    "!sudo apt-get update\n",
    "!sudo apt-get install nodejs -y\n",
    "!node -v"
   ]
  },
  {
   "cell_type": "code",
   "execution_count": 2,
   "id": "f2b1bbe1",
   "metadata": {
    "execution": {
     "iopub.execute_input": "2025-07-20T06:05:55.530163Z",
     "iopub.status.busy": "2025-07-20T06:05:55.528658Z",
     "iopub.status.idle": "2025-07-20T06:05:55.541684Z",
     "shell.execute_reply": "2025-07-20T06:05:55.537942Z"
    },
    "papermill": {
     "duration": 0.032488,
     "end_time": "2025-07-20T06:05:55.544862",
     "exception": false,
     "start_time": "2025-07-20T06:05:55.512374",
     "status": "completed"
    },
    "tags": []
   },
   "outputs": [],
   "source": [
    "# Cell 2: Set token\n",
    "twitter_auth_token = 'd02c899d82bd48baa99ad566d782a355e7de9ed9'"
   ]
  },
  {
   "cell_type": "code",
   "execution_count": 3,
   "id": "011ee70e",
   "metadata": {
    "execution": {
     "iopub.execute_input": "2025-07-20T06:05:55.568498Z",
     "iopub.status.busy": "2025-07-20T06:05:55.566664Z",
     "iopub.status.idle": "2025-07-20T06:05:55.581358Z",
     "shell.execute_reply": "2025-07-20T06:05:55.579309Z"
    },
    "papermill": {
     "duration": 0.030304,
     "end_time": "2025-07-20T06:05:55.584726",
     "exception": false,
     "start_time": "2025-07-20T06:05:55.554422",
     "status": "completed"
    },
    "tags": []
   },
   "outputs": [],
   "source": [
    "# Cell 3: Crawl data\n",
    "import datetime\n",
    "\n",
    "# Generate dynamic dates\n",
    "current_date = datetime.datetime.now().strftime('%Y-%m-%d')  # Current date: YYYY-MM-DD\n",
    "one_year_ago = (datetime.datetime.now() - datetime.timedelta(days=365)).strftime('%Y-%m-%d')  # One year ago: YYYY-MM-DD"
   ]
  },
  {
   "cell_type": "code",
   "execution_count": 4,
   "id": "80625cf8",
   "metadata": {
    "execution": {
     "iopub.execute_input": "2025-07-20T06:05:55.614783Z",
     "iopub.status.busy": "2025-07-20T06:05:55.614088Z",
     "iopub.status.idle": "2025-07-20T06:05:55.632998Z",
     "shell.execute_reply": "2025-07-20T06:05:55.630765Z"
    },
    "papermill": {
     "duration": 0.038473,
     "end_time": "2025-07-20T06:05:55.636760",
     "exception": false,
     "start_time": "2025-07-20T06:05:55.598287",
     "status": "completed"
    },
    "tags": []
   },
   "outputs": [],
   "source": [
    "# BACA USERNAME DARI FILE\n",
    "with open('username.txt', 'r') as f:\n",
    "    username = f.read().strip()"
   ]
  },
  {
   "cell_type": "code",
   "execution_count": 5,
   "id": "3f71c3a7",
   "metadata": {
    "execution": {
     "iopub.execute_input": "2025-07-20T06:05:55.661636Z",
     "iopub.status.busy": "2025-07-20T06:05:55.660900Z",
     "iopub.status.idle": "2025-07-20T06:06:57.468044Z",
     "shell.execute_reply": "2025-07-20T06:06:57.460354Z"
    },
    "papermill": {
     "duration": 61.881422,
     "end_time": "2025-07-20T06:06:57.529039",
     "exception": false,
     "start_time": "2025-07-20T06:05:55.647617",
     "status": "completed"
    },
    "tags": []
   },
   "outputs": [
    {
     "name": "stdout",
     "output_type": "stream",
     "text": [
      "\u001b[1m\u001b[32mTweet Harvest [v2.6.1]\u001b[39m\u001b[22m\n",
      "\u001b[1m\u001b[32m\u001b[39m\u001b[22m\n",
      "\u001b[34mResearch by \u001b[39m\u001b[1m\u001b[34mHelmi Satria\u001b[39m\u001b[22m\u001b[34m\u001b[39m\n",
      "\u001b[34mUse it for Educational Purposes only!\u001b[39m\n",
      "\u001b[34m\u001b[39m\n",
      "\u001b[33mThis script uses Chromium Browser to crawl data from Twitter with \u001b[1myour Twitter auth token\u001b[22m.\u001b[39m\n",
      "\u001b[33mPlease enter your Twitter auth token when prompted.\u001b[39m\n",
      "\u001b[33m\u001b[39m\n",
      "\u001b[31m\u001b[1mNote:\u001b[22m\u001b[39m Keep your access token secret! Don't share it with anyone else.\n",
      "\u001b[31m\u001b[1mNote:\u001b[22m\u001b[39m This script only runs on your local device.\n",
      "\n",
      "\u001b[34m\u001b[39m\n",
      "\u001b[34mOpening twitter search page...\u001b[39m\n",
      "\u001b[34m\u001b[39m\n",
      "\u001b[34m\u001b[39m\n",
      "\u001b[34mFound existing file ./tweets-data/save_tweets.csv, renaming to ./tweets-data/save_tweets.old.csv\u001b[39m\n",
      "\u001b[33m\u001b[39m\n",
      "\u001b[33mFilling in keywords: from:kkaorou since:2024-07-20 until:2025-07-20\u001b[39m\n",
      "\u001b[33m\u001b[39m\n",
      "\u001b[90m\u001b[39m\n",
      "\u001b[90m-- Scrolling... (1)\u001b[39m\u001b[34m\u001b[39m\n",
      "\u001b[34m\u001b[39m\n",
      "\u001b[34mYour tweets saved to: C:\\StressAPP\\tweets-data\\save_tweets.csv\u001b[39m\n",
      "\u001b[33mTotal tweets saved: 17\u001b[39m\n",
      "\u001b[90m\u001b[39m\n",
      "\u001b[90m-- Scrolling... (1)\u001b[39m\u001b[90m (2)\u001b[39m\u001b[34m\u001b[39m\n",
      "\u001b[34m\u001b[39m\n",
      "\u001b[34mYour tweets saved to: C:\\StressAPP\\tweets-data\\save_tweets.csv\u001b[39m\n",
      "\u001b[33mTotal tweets saved: 37\u001b[39m\n",
      "\u001b[90m\u001b[39m\n",
      "\u001b[90m-- Scrolling... (1)\u001b[39m\u001b[34m\u001b[39m\n",
      "\u001b[34m\u001b[39m\n",
      "\u001b[34mYour tweets saved to: C:\\StressAPP\\tweets-data\\save_tweets.csv\u001b[39m\n",
      "\u001b[33mTotal tweets saved: 57\u001b[39m\n",
      "\u001b[90m\u001b[39m\n",
      "\u001b[90m-- Scrolling... (1)\u001b[39m\u001b[34m\u001b[39m\n",
      "\u001b[34m\u001b[39m\n",
      "\u001b[34mYour tweets saved to: C:\\StressAPP\\tweets-data\\save_tweets.csv\u001b[39m\n",
      "\u001b[33mTotal tweets saved: 77\u001b[39m\n",
      "\u001b[90m\u001b[39m\n",
      "\u001b[90m-- Scrolling... (1)\u001b[39m\u001b[34m\u001b[39m\n",
      "\u001b[34m\u001b[39m\n",
      "\u001b[34mYour tweets saved to: C:\\StressAPP\\tweets-data\\save_tweets.csv\u001b[39m\n",
      "\u001b[33mTotal tweets saved: 97\u001b[39m\n",
      "\u001b[90m\u001b[39m\n",
      "\u001b[90m-- Scrolling... (1)\u001b[39m\u001b[34m\u001b[39m\n",
      "\u001b[34m\u001b[39m\n",
      "\u001b[34mYour tweets saved to: C:\\StressAPP\\tweets-data\\save_tweets.csv\u001b[39m\n",
      "\u001b[33mTotal tweets saved: 117\u001b[39m\n",
      "\u001b[90m\u001b[39m\n",
      "\u001b[90m--Taking a break, waiting for 10 seconds...\u001b[39m\n",
      "Got 117 tweets, done scrolling...\n"
     ]
    }
   ],
   "source": [
    "# Cell 3: Crawl data\n",
    "# Nama file\n",
    "filename = 'save_tweets.csv'\n",
    "\n",
    "search_keyword = f'from:{username} since:{one_year_ago} until:{current_date}'\n",
    "limit = 100\n",
    "\n",
    "!npx -y tweet-harvest@2.6.1 -o \"{filename}\" -s \"{search_keyword}\" --tab \"LATEST\" -l {limit} --token {twitter_auth_token}"
   ]
  },
  {
   "cell_type": "code",
   "execution_count": 6,
   "id": "81bfce2a",
   "metadata": {
    "execution": {
     "iopub.execute_input": "2025-07-20T06:06:57.570145Z",
     "iopub.status.busy": "2025-07-20T06:06:57.568524Z",
     "iopub.status.idle": "2025-07-20T06:07:00.367344Z",
     "shell.execute_reply": "2025-07-20T06:07:00.365106Z"
    },
    "papermill": {
     "duration": 2.820376,
     "end_time": "2025-07-20T06:07:00.370268",
     "exception": false,
     "start_time": "2025-07-20T06:06:57.549892",
     "status": "completed"
    },
    "tags": []
   },
   "outputs": [
    {
     "data": {
      "text/html": [
       "<div>\n",
       "<style scoped>\n",
       "    .dataframe tbody tr th:only-of-type {\n",
       "        vertical-align: middle;\n",
       "    }\n",
       "\n",
       "    .dataframe tbody tr th {\n",
       "        vertical-align: top;\n",
       "    }\n",
       "\n",
       "    .dataframe thead th {\n",
       "        text-align: right;\n",
       "    }\n",
       "</style>\n",
       "<table border=\"1\" class=\"dataframe\">\n",
       "  <thead>\n",
       "    <tr style=\"text-align: right;\">\n",
       "      <th></th>\n",
       "      <th>conversation_id_str</th>\n",
       "      <th>created_at</th>\n",
       "      <th>favorite_count</th>\n",
       "      <th>full_text</th>\n",
       "      <th>id_str</th>\n",
       "      <th>image_url</th>\n",
       "      <th>in_reply_to_screen_name</th>\n",
       "      <th>lang</th>\n",
       "      <th>location</th>\n",
       "      <th>quote_count</th>\n",
       "      <th>reply_count</th>\n",
       "      <th>retweet_count</th>\n",
       "      <th>tweet_url</th>\n",
       "      <th>user_id_str</th>\n",
       "      <th>username</th>\n",
       "    </tr>\n",
       "  </thead>\n",
       "  <tbody>\n",
       "    <tr>\n",
       "      <th>0</th>\n",
       "      <td>1945788653797842963</td>\n",
       "      <td>Thu Jul 17 10:12:20 +0000 2025</td>\n",
       "      <td>0</td>\n",
       "      <td>cape banget jir ama ni dosen ppk</td>\n",
       "      <td>1945788653797842963</td>\n",
       "      <td>NaN</td>\n",
       "      <td>NaN</td>\n",
       "      <td>in</td>\n",
       "      <td>NaN</td>\n",
       "      <td>0</td>\n",
       "      <td>0</td>\n",
       "      <td>0</td>\n",
       "      <td>https://x.com/undefined/status/194578865379784...</td>\n",
       "      <td>809228121622777856</td>\n",
       "      <td>NaN</td>\n",
       "    </tr>\n",
       "    <tr>\n",
       "      <th>1</th>\n",
       "      <td>1928872043891622346</td>\n",
       "      <td>Sat May 31 17:51:46 +0000 2025</td>\n",
       "      <td>0</td>\n",
       "      <td>malu2in gundar kau pukimak</td>\n",
       "      <td>1928872043891622346</td>\n",
       "      <td>NaN</td>\n",
       "      <td>NaN</td>\n",
       "      <td>in</td>\n",
       "      <td>NaN</td>\n",
       "      <td>0</td>\n",
       "      <td>0</td>\n",
       "      <td>0</td>\n",
       "      <td>https://x.com/undefined/status/192887204389162...</td>\n",
       "      <td>809228121622777856</td>\n",
       "      <td>NaN</td>\n",
       "    </tr>\n",
       "    <tr>\n",
       "      <th>2</th>\n",
       "      <td>1923347567544308168</td>\n",
       "      <td>Fri May 16 11:59:28 +0000 2025</td>\n",
       "      <td>0</td>\n",
       "      <td>takut :(</td>\n",
       "      <td>1923347567544308168</td>\n",
       "      <td>NaN</td>\n",
       "      <td>NaN</td>\n",
       "      <td>in</td>\n",
       "      <td>NaN</td>\n",
       "      <td>0</td>\n",
       "      <td>0</td>\n",
       "      <td>0</td>\n",
       "      <td>https://x.com/undefined/status/192334756754430...</td>\n",
       "      <td>809228121622777856</td>\n",
       "      <td>NaN</td>\n",
       "    </tr>\n",
       "    <tr>\n",
       "      <th>3</th>\n",
       "      <td>1921578985760161989</td>\n",
       "      <td>Sun May 11 14:51:46 +0000 2025</td>\n",
       "      <td>0</td>\n",
       "      <td>feeling lonely</td>\n",
       "      <td>1921578985760161989</td>\n",
       "      <td>NaN</td>\n",
       "      <td>NaN</td>\n",
       "      <td>en</td>\n",
       "      <td>NaN</td>\n",
       "      <td>0</td>\n",
       "      <td>0</td>\n",
       "      <td>0</td>\n",
       "      <td>https://x.com/undefined/status/192157898576016...</td>\n",
       "      <td>809228121622777856</td>\n",
       "      <td>NaN</td>\n",
       "    </tr>\n",
       "    <tr>\n",
       "      <th>4</th>\n",
       "      <td>1921524503080788308</td>\n",
       "      <td>Sun May 11 12:36:14 +0000 2025</td>\n",
       "      <td>0</td>\n",
       "      <td>@starfess wkwkwkwk sehun tojos mimi</td>\n",
       "      <td>1921544878648860682</td>\n",
       "      <td>NaN</td>\n",
       "      <td>starfess</td>\n",
       "      <td>in</td>\n",
       "      <td>NaN</td>\n",
       "      <td>0</td>\n",
       "      <td>0</td>\n",
       "      <td>0</td>\n",
       "      <td>https://x.com/undefined/status/192154487864886...</td>\n",
       "      <td>809228121622777856</td>\n",
       "      <td>NaN</td>\n",
       "    </tr>\n",
       "  </tbody>\n",
       "</table>\n",
       "</div>"
      ],
      "text/plain": [
       "   conversation_id_str                      created_at  favorite_count  \\\n",
       "0  1945788653797842963  Thu Jul 17 10:12:20 +0000 2025               0   \n",
       "1  1928872043891622346  Sat May 31 17:51:46 +0000 2025               0   \n",
       "2  1923347567544308168  Fri May 16 11:59:28 +0000 2025               0   \n",
       "3  1921578985760161989  Sun May 11 14:51:46 +0000 2025               0   \n",
       "4  1921524503080788308  Sun May 11 12:36:14 +0000 2025               0   \n",
       "\n",
       "                             full_text               id_str image_url  \\\n",
       "0     cape banget jir ama ni dosen ppk  1945788653797842963       NaN   \n",
       "1           malu2in gundar kau pukimak  1928872043891622346       NaN   \n",
       "2                             takut :(  1923347567544308168       NaN   \n",
       "3                       feeling lonely  1921578985760161989       NaN   \n",
       "4  @starfess wkwkwkwk sehun tojos mimi  1921544878648860682       NaN   \n",
       "\n",
       "  in_reply_to_screen_name lang  location  quote_count  reply_count  \\\n",
       "0                     NaN   in       NaN            0            0   \n",
       "1                     NaN   in       NaN            0            0   \n",
       "2                     NaN   in       NaN            0            0   \n",
       "3                     NaN   en       NaN            0            0   \n",
       "4                starfess   in       NaN            0            0   \n",
       "\n",
       "   retweet_count                                          tweet_url  \\\n",
       "0              0  https://x.com/undefined/status/194578865379784...   \n",
       "1              0  https://x.com/undefined/status/192887204389162...   \n",
       "2              0  https://x.com/undefined/status/192334756754430...   \n",
       "3              0  https://x.com/undefined/status/192157898576016...   \n",
       "4              0  https://x.com/undefined/status/192154487864886...   \n",
       "\n",
       "          user_id_str  username  \n",
       "0  809228121622777856       NaN  \n",
       "1  809228121622777856       NaN  \n",
       "2  809228121622777856       NaN  \n",
       "3  809228121622777856       NaN  \n",
       "4  809228121622777856       NaN  "
      ]
     },
     "metadata": {},
     "output_type": "display_data"
    },
    {
     "name": "stdout",
     "output_type": "stream",
     "text": [
      "File 'tweets-data/save_tweets.csv' sudah ada dan akan diganti (replace).\n",
      "Jumlah tweet dalam dataframe adalah 117.\n"
     ]
    }
   ],
   "source": [
    "# Cell 4: Baca dan filter data\n",
    "import pandas as pd\n",
    "import os\n",
    "\n",
    "file_path = f\"tweets-data/{filename}\"\n",
    "df = pd.read_csv(file_path, delimiter=\",\")\n",
    "display(df.head())\n",
    "\n",
    "# Cek apakah file sudah ada\n",
    "if os.path.exists(file_path):\n",
    "    print(f\"File '{file_path}' sudah ada dan akan diganti (replace).\")\n",
    "\n",
    "num_tweets = len(df)\n",
    "print(f\"Jumlah tweet dalam dataframe adalah {num_tweets}.\")"
   ]
  }
 ],
 "metadata": {
  "kernelspec": {
   "display_name": "venv",
   "language": "python",
   "name": "python3"
  },
  "language_info": {
   "codemirror_mode": {
    "name": "ipython",
    "version": 3
   },
   "file_extension": ".py",
   "mimetype": "text/x-python",
   "name": "python",
   "nbconvert_exporter": "python",
   "pygments_lexer": "ipython3",
   "version": "3.13.3"
  },
  "papermill": {
   "default_parameters": {},
   "duration": 78.389094,
   "end_time": "2025-07-20T06:07:01.219014",
   "environment_variables": {},
   "exception": null,
   "input_path": "crawling.ipynb",
   "output_path": "executed_crawling.ipynb",
   "parameters": {},
   "start_time": "2025-07-20T06:05:42.829920",
   "version": "2.6.0"
  }
 },
 "nbformat": 4,
 "nbformat_minor": 5
}