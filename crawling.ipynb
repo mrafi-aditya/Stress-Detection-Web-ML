{
 "cells": [
  {
   "cell_type": "code",
   "execution_count": null,
   "id": "8c54b02c",
   "metadata": {},
   "outputs": [],
   "source": [
    "# Cell 1: Instal dependensi\n",
    "!pip install pandas\n",
    "!sudo apt-get update\n",
    "!sudo apt-get install -y ca-certificates curl gnupg\n",
    "!sudo mkdir -p /etc/apt/keyrings\n",
    "!curl -fsSL https://deb.nodesource.com/gpgkey/nodesource-repo.gpg.key | sudo gpg --dearmor -o /etc/apt/keyrings/nodesource.gpg\n",
    "!NODE_MAJOR=20 && echo \"deb [signed-by=/etc/apt/keyrings/nodesource.gpg] https://deb.nodesource.com/node_$NODE_MAJOR.x nodistro main\" | sudo tee /etc/apt/sources.list.d/nodesource.list\n",
    "!sudo apt-get update\n",
    "!sudo apt-get install nodejs -y\n",
    "!node -v"
   ]
  },
  {
   "cell_type": "code",
   "execution_count": null,
   "id": "f2b1bbe1",
   "metadata": {},
   "outputs": [],
   "source": [
    "# Cell 2: Set token\n",
    "twitter_auth_token = 'd02c899d82bd48baa99ad566d782a355e7de9ed9'"
   ]
  },
  {
   "cell_type": "code",
   "execution_count": null,
   "id": "011ee70e",
   "metadata": {},
   "outputs": [],
   "source": [
    "# Cell 3: Crawl data\n",
    "import datetime\n",
    "\n",
    "# Generate dynamic dates\n",
    "current_date = datetime.datetime.now().strftime('%Y-%m-%d')  # Current date: YYYY-MM-DD\n",
    "one_year_ago = (datetime.datetime.now() - datetime.timedelta(days=365)).strftime('%Y-%m-%d')  # One year ago: YYYY-MM-DD"
   ]
  },
  {
   "cell_type": "code",
   "execution_count": null,
   "id": "80625cf8",
   "metadata": {},
   "outputs": [],
   "source": [
    "# BACA USERNAME DARI FILE\n",
    "with open('username.txt', 'r') as f:\n",
    "    username = f.read().strip()"
   ]
  },
  {
   "cell_type": "code",
   "execution_count": null,
   "id": "3f71c3a7",
   "metadata": {},
   "outputs": [],
   "source": [
    "# Cell 3: Crawl data\n",
    "# Nama file\n",
    "filename = 'save_tweets.csv'\n",
    "\n",
    "search_keyword = f'from:{username} since:{one_year_ago} until:{current_date}'\n",
    "limit = 100\n",
    "\n",
    "!npx -y tweet-harvest@2.6.1 -o \"{filename}\" -s \"{search_keyword}\" --tab \"LATEST\" -l {limit} --token {twitter_auth_token}"
   ]
  },
  {
   "cell_type": "code",
   "execution_count": null,
   "id": "81bfce2a",
   "metadata": {},
   "outputs": [],
   "source": [
    "# Cell 4: Baca dan filter data\n",
    "import pandas as pd\n",
    "import os\n",
    "\n",
    "file_path = f\"tweets-data/{filename}\"\n",
    "df = pd.read_csv(file_path, delimiter=\",\")\n",
    "display(df.head())\n",
    "\n",
    "# Cek apakah file sudah ada\n",
    "if os.path.exists(file_path):\n",
    "    print(f\"File '{file_path}' sudah ada dan akan diganti (replace).\")\n",
    "\n",
    "num_tweets = len(df)\n",
    "print(f\"Jumlah tweet dalam dataframe adalah {num_tweets}.\")"
   ]
  }
 ],
 "metadata": {
  "kernelspec": {
   "display_name": "venv",
   "language": "python",
   "name": "python3"
  },
  "language_info": {
   "codemirror_mode": {
    "name": "ipython",
    "version": 3
   },
   "file_extension": ".py",
   "mimetype": "text/x-python",
   "name": "python",
   "nbconvert_exporter": "python",
   "pygments_lexer": "ipython3",
   "version": "3.13.3"
  }
 },
 "nbformat": 4,
 "nbformat_minor": 5
}
